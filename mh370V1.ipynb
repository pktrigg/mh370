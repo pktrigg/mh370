{
 "cells": [
  {
   "cell_type": "code",
   "execution_count": 7,
   "metadata": {},
   "outputs": [
    {
     "name": "stdout",
     "output_type": "stream",
     "text": [
      "Requirement already satisfied: ipyleaflet in c:\\python\\lib\\site-packages (0.16.0)\n",
      "Requirement already satisfied: xyzservices>=2021.8.1 in c:\\python\\lib\\site-packages (from ipyleaflet) (2022.6.0)\n",
      "Requirement already satisfied: traittypes<3,>=0.2.1 in c:\\python\\lib\\site-packages (from ipyleaflet) (0.2.1)\n",
      "Requirement already satisfied: ipywidgets<8,>=7.6.0 in c:\\python\\lib\\site-packages (from ipyleaflet) (7.7.1)\n",
      "Requirement already satisfied: traitlets>=4.3.1 in c:\\python\\lib\\site-packages (from ipywidgets<8,>=7.6.0->ipyleaflet) (5.3.0)\n",
      "Requirement already satisfied: ipython-genutils~=0.2.0 in c:\\python\\lib\\site-packages (from ipywidgets<8,>=7.6.0->ipyleaflet) (0.2.0)\n",
      "Requirement already satisfied: ipykernel>=4.5.1 in c:\\python\\lib\\site-packages (from ipywidgets<8,>=7.6.0->ipyleaflet) (5.1.2)\n",
      "Requirement already satisfied: widgetsnbextension~=3.6.0 in c:\\python\\lib\\site-packages (from ipywidgets<8,>=7.6.0->ipyleaflet) (3.6.1)\n",
      "Requirement already satisfied: jupyterlab-widgets>=1.0.0 in c:\\python\\lib\\site-packages (from ipywidgets<8,>=7.6.0->ipyleaflet) (1.1.1)\n",
      "Requirement already satisfied: ipython>=4.0.0 in c:\\python\\lib\\site-packages (from ipywidgets<8,>=7.6.0->ipyleaflet) (7.7.0)\n",
      "Requirement already satisfied: tornado>=4.2 in c:\\python\\lib\\site-packages (from ipykernel>=4.5.1->ipywidgets<8,>=7.6.0->ipyleaflet) (6.1)\n",
      "Requirement already satisfied: jupyter-client in c:\\python\\lib\\site-packages (from ipykernel>=4.5.1->ipywidgets<8,>=7.6.0->ipyleaflet) (7.3.4)\n",
      "Requirement already satisfied: setuptools>=18.5 in c:\\python\\lib\\site-packages (from ipython>=4.0.0->ipywidgets<8,>=7.6.0->ipyleaflet) (41.2.0)\n",
      "Requirement already satisfied: decorator in c:\\python\\lib\\site-packages (from ipython>=4.0.0->ipywidgets<8,>=7.6.0->ipyleaflet) (4.4.0)\n",
      "Requirement already satisfied: prompt-toolkit<2.1.0,>=2.0.0 in c:\\python\\lib\\site-packages (from ipython>=4.0.0->ipywidgets<8,>=7.6.0->ipyleaflet) (2.0.9)\n",
      "Requirement already satisfied: backcall in c:\\python\\lib\\site-packages (from ipython>=4.0.0->ipywidgets<8,>=7.6.0->ipyleaflet) (0.1.0)\n",
      "Requirement already satisfied: jedi>=0.10 in c:\\python\\lib\\site-packages (from ipython>=4.0.0->ipywidgets<8,>=7.6.0->ipyleaflet) (0.15.1)\n",
      "Requirement already satisfied: pickleshare in c:\\python\\lib\\site-packages (from ipython>=4.0.0->ipywidgets<8,>=7.6.0->ipyleaflet) (0.7.5)\n",
      "Requirement already satisfied: colorama in c:\\python\\lib\\site-packages (from ipython>=4.0.0->ipywidgets<8,>=7.6.0->ipyleaflet) (0.4.4)\n",
      "Requirement already satisfied: pygments in c:\\python\\lib\\site-packages (from ipython>=4.0.0->ipywidgets<8,>=7.6.0->ipyleaflet) (2.4.2)\n",
      "Requirement already satisfied: notebook>=4.4.1 in c:\\python\\lib\\site-packages (from widgetsnbextension~=3.6.0->ipywidgets<8,>=7.6.0->ipyleaflet) (6.0.1)\n",
      "Requirement already satisfied: parso>=0.5.0 in c:\\python\\lib\\site-packages (from jedi>=0.10->ipython>=4.0.0->ipywidgets<8,>=7.6.0->ipyleaflet) (0.5.1)\n",
      "Requirement already satisfied: jupyter-core>=4.4.0 in c:\\python\\lib\\site-packages (from notebook>=4.4.1->widgetsnbextension~=3.6.0->ipywidgets<8,>=7.6.0->ipyleaflet) (4.10.0)\n",
      "Requirement already satisfied: nbformat in c:\\python\\lib\\site-packages (from notebook>=4.4.1->widgetsnbextension~=3.6.0->ipywidgets<8,>=7.6.0->ipyleaflet) (5.4.0)\n",
      "Requirement already satisfied: terminado>=0.8.1 in c:\\python\\lib\\site-packages (from notebook>=4.4.1->widgetsnbextension~=3.6.0->ipywidgets<8,>=7.6.0->ipyleaflet) (0.15.0)\n",
      "Requirement already satisfied: Send2Trash in c:\\python\\lib\\site-packages (from notebook>=4.4.1->widgetsnbextension~=3.6.0->ipywidgets<8,>=7.6.0->ipyleaflet) (1.5.0)\n",
      "Requirement already satisfied: prometheus-client in c:\\python\\lib\\site-packages (from notebook>=4.4.1->widgetsnbextension~=3.6.0->ipywidgets<8,>=7.6.0->ipyleaflet) (0.7.1)\n",
      "Requirement already satisfied: nbconvert in c:\\python\\lib\\site-packages (from notebook>=4.4.1->widgetsnbextension~=3.6.0->ipywidgets<8,>=7.6.0->ipyleaflet) (6.5.0)\n",
      "Requirement already satisfied: pyzmq>=17 in c:\\python\\lib\\site-packages (from notebook>=4.4.1->widgetsnbextension~=3.6.0->ipywidgets<8,>=7.6.0->ipyleaflet) (23.2.0)\n",
      "Requirement already satisfied: jinja2 in c:\\python\\lib\\site-packages (from notebook>=4.4.1->widgetsnbextension~=3.6.0->ipywidgets<8,>=7.6.0->ipyleaflet) (3.1.2)\n",
      "Requirement already satisfied: entrypoints in c:\\python\\lib\\site-packages (from jupyter-client->ipykernel>=4.5.1->ipywidgets<8,>=7.6.0->ipyleaflet) (0.3)\n",
      "Requirement already satisfied: python-dateutil>=2.8.2 in c:\\python\\lib\\site-packages (from jupyter-client->ipykernel>=4.5.1->ipywidgets<8,>=7.6.0->ipyleaflet) (2.8.2)\n",
      "Requirement already satisfied: nest-asyncio>=1.5.4 in c:\\python\\lib\\site-packages (from jupyter-client->ipykernel>=4.5.1->ipywidgets<8,>=7.6.0->ipyleaflet) (1.5.5)\n",
      "Requirement already satisfied: six>=1.9.0 in c:\\python\\lib\\site-packages (from prompt-toolkit<2.1.0,>=2.0.0->ipython>=4.0.0->ipywidgets<8,>=7.6.0->ipyleaflet) (1.15.0)\n",
      "Requirement already satisfied: wcwidth in c:\\python\\lib\\site-packages (from prompt-toolkit<2.1.0,>=2.0.0->ipython>=4.0.0->ipywidgets<8,>=7.6.0->ipyleaflet) (0.1.7)\n",
      "Requirement already satisfied: pywin32>=1.0 in c:\\python\\lib\\site-packages (from jupyter-core>=4.4.0->notebook>=4.4.1->widgetsnbextension~=3.6.0->ipywidgets<8,>=7.6.0->ipyleaflet) (227)\n",
      "Requirement already satisfied: pywinpty>=1.1.0 in c:\\python\\lib\\site-packages (from terminado>=0.8.1->notebook>=4.4.1->widgetsnbextension~=3.6.0->ipywidgets<8,>=7.6.0->ipyleaflet) (2.0.5)\n",
      "Requirement already satisfied: MarkupSafe>=2.0 in c:\\python\\lib\\site-packages (from jinja2->notebook>=4.4.1->widgetsnbextension~=3.6.0->ipywidgets<8,>=7.6.0->ipyleaflet) (2.1.1)\n",
      "Requirement already satisfied: defusedxml in c:\\python\\lib\\site-packages (from nbconvert->notebook>=4.4.1->widgetsnbextension~=3.6.0->ipywidgets<8,>=7.6.0->ipyleaflet) (0.6.0)\n",
      "Requirement already satisfied: packaging in c:\\python\\lib\\site-packages (from nbconvert->notebook>=4.4.1->widgetsnbextension~=3.6.0->ipywidgets<8,>=7.6.0->ipyleaflet) (21.3)\n",
      "Requirement already satisfied: tinycss2 in c:\\python\\lib\\site-packages (from nbconvert->notebook>=4.4.1->widgetsnbextension~=3.6.0->ipywidgets<8,>=7.6.0->ipyleaflet) (1.1.1)\n",
      "Requirement already satisfied: jupyterlab-pygments in c:\\python\\lib\\site-packages (from nbconvert->notebook>=4.4.1->widgetsnbextension~=3.6.0->ipywidgets<8,>=7.6.0->ipyleaflet) (0.2.2)\n",
      "Requirement already satisfied: mistune<2,>=0.8.1 in c:\\python\\lib\\site-packages (from nbconvert->notebook>=4.4.1->widgetsnbextension~=3.6.0->ipywidgets<8,>=7.6.0->ipyleaflet) (0.8.4)\n",
      "Requirement already satisfied: bleach in c:\\python\\lib\\site-packages (from nbconvert->notebook>=4.4.1->widgetsnbextension~=3.6.0->ipywidgets<8,>=7.6.0->ipyleaflet) (3.1.0)\n",
      "Requirement already satisfied: nbclient>=0.5.0 in c:\\python\\lib\\site-packages (from nbconvert->notebook>=4.4.1->widgetsnbextension~=3.6.0->ipywidgets<8,>=7.6.0->ipyleaflet) (0.6.4)\n",
      "Requirement already satisfied: beautifulsoup4 in c:\\python\\lib\\site-packages (from nbconvert->notebook>=4.4.1->widgetsnbextension~=3.6.0->ipywidgets<8,>=7.6.0->ipyleaflet) (4.11.1)\n",
      "Requirement already satisfied: pandocfilters>=1.4.1 in c:\\python\\lib\\site-packages (from nbconvert->notebook>=4.4.1->widgetsnbextension~=3.6.0->ipywidgets<8,>=7.6.0->ipyleaflet) (1.4.2)\n",
      "Requirement already satisfied: jsonschema>=2.6 in c:\\python\\lib\\site-packages (from nbformat->notebook>=4.4.1->widgetsnbextension~=3.6.0->ipywidgets<8,>=7.6.0->ipyleaflet) (3.2.0)\n",
      "Requirement already satisfied: fastjsonschema in c:\\python\\lib\\site-packages (from nbformat->notebook>=4.4.1->widgetsnbextension~=3.6.0->ipywidgets<8,>=7.6.0->ipyleaflet) (2.15.3)\n",
      "Requirement already satisfied: importlib-metadata in c:\\python\\lib\\site-packages (from jsonschema>=2.6->nbformat->notebook>=4.4.1->widgetsnbextension~=3.6.0->ipywidgets<8,>=7.6.0->ipyleaflet) (4.12.0)\n",
      "Requirement already satisfied: attrs>=17.4.0 in c:\\python\\lib\\site-packages (from jsonschema>=2.6->nbformat->notebook>=4.4.1->widgetsnbextension~=3.6.0->ipywidgets<8,>=7.6.0->ipyleaflet) (19.3.0)\n",
      "Requirement already satisfied: pyrsistent>=0.14.0 in c:\\python\\lib\\site-packages (from jsonschema>=2.6->nbformat->notebook>=4.4.1->widgetsnbextension~=3.6.0->ipywidgets<8,>=7.6.0->ipyleaflet) (0.15.4)\n",
      "Requirement already satisfied: soupsieve>1.2 in c:\\python\\lib\\site-packages (from beautifulsoup4->nbconvert->notebook>=4.4.1->widgetsnbextension~=3.6.0->ipywidgets<8,>=7.6.0->ipyleaflet) (2.3.2.post1)\n",
      "Requirement already satisfied: webencodings in c:\\python\\lib\\site-packages (from bleach->nbconvert->notebook>=4.4.1->widgetsnbextension~=3.6.0->ipywidgets<8,>=7.6.0->ipyleaflet) (0.5.1)\n",
      "Requirement already satisfied: pyparsing!=3.0.5,>=2.0.2 in c:\\python\\lib\\site-packages (from packaging->nbconvert->notebook>=4.4.1->widgetsnbextension~=3.6.0->ipywidgets<8,>=7.6.0->ipyleaflet) (2.4.2)\n",
      "Requirement already satisfied: zipp>=0.5 in c:\\python\\lib\\site-packages (from importlib-metadata->jsonschema>=2.6->nbformat->notebook>=4.4.1->widgetsnbextension~=3.6.0->ipywidgets<8,>=7.6.0->ipyleaflet) (3.1.0)\n",
      "Requirement already satisfied: typing-extensions>=3.6.4 in c:\\python\\lib\\site-packages (from importlib-metadata->jsonschema>=2.6->nbformat->notebook>=4.4.1->widgetsnbextension~=3.6.0->ipywidgets<8,>=7.6.0->ipyleaflet) (4.0.1)\n",
      "Note: you may need to restart the kernel to use updated packages.\n"
     ]
    },
    {
     "name": "stderr",
     "output_type": "stream",
     "text": [
      "WARNING: You are using pip version 22.0.4; however, version 22.1.2 is available.\n",
      "You should consider upgrading via the 'c:\\Python\\python.exe -m pip install --upgrade pip' command.\n",
      "UsageError: Line magic function `%jupyter` not found.\n"
     ]
    }
   ],
   "source": [
    "%pip install ipyleaflet\n",
    "# !jupyter nbextension enable --py --sys-prefix ipyleaflet\n",
    "%jupyter nbextension enable --py --sys-prefix ipyleaflet  # can be skipped for notebook 5.3 and above\n"
   ]
  },
  {
   "cell_type": "code",
   "execution_count": 21,
   "metadata": {},
   "outputs": [
    {
     "name": "stdout",
     "output_type": "stream",
     "text": [
      "500707.10678118654 1000707.1067811865\n",
      "16:00 distance GEF to Satellite: 39222.752370\n"
     ]
    }
   ],
   "source": [
    "\n",
    "import geodetic\n",
    "import math\n",
    "\n",
    "easting  = 500000\n",
    "northing = 1000000\n",
    "distance = 1000\n",
    "bearing = 45\n",
    "x,y = geodetic.calculateGridPositionFromRangeBearing(easting, northing, distance, bearing)\n",
    "print (x,y)\n",
    "\n",
    "###################################################################\n",
    "def calculateECEFDistance(x1, y1, z1, x2, y2, z2):\n",
    "\t# Then with pythagorean in 3D, we find the distance d\n",
    "\n",
    "\td = math.sqrt((x2-x1)**2 + (y2-y1)**2 + (z2-z1)**2)\n",
    "\n",
    "\treturn d\n",
    "###################################################################\n",
    "\n",
    "#Satellite Location (Km)\n",
    "gefx = -2368.8\n",
    "gefy = 4881.1\n",
    "gefz = -3342.0\n",
    "x1600 = 18118.9\n",
    "y1600 = 38081.8\n",
    "z1600 = 706.7\n",
    "\n",
    "distance = calculateECEFDistance(gefx, gefy, gefz, x1600, y1600, z1600)\n",
    "print (\"16:00 distance GEF to Satellite: %f\" % (distance))\n"
   ]
  },
  {
   "cell_type": "markdown",
   "metadata": {},
   "source": [
    "### Handshakes ###\n",
    "After the last recorded primary radar data |  at 1822 |  the following were recorded at the ground\n",
    "station:\n",
    "| hh:mm.ss | Comment |\n",
    "| ----------- | ----------- |\n",
    "| 18:25.27 | 1st handshake initiated by the aircraft |\n",
    "| 18:39.52 | Unanswered ground to air telephone call |\n",
    "| 19:41.00 | 2nd handshake initiated by the ground station |\n",
    "| 20:41.02 | 3rd handshake initiated by the ground station |\n",
    "| 21:41.24 | 4th handshake initiated by the ground station |\n",
    "| 22:41.19 | 5th handshake initiated by the ground station |\n",
    "| 23:13.58 | Unanswered ground to air telephone call |\n",
    "| 00:10.58 | 6th handshake initiated by the ground station |\n",
    "| 00:19.29 | 7th handshake initiated by the aircraft |\n",
    "\n",
    "\n"
   ]
  },
  {
   "cell_type": "markdown",
   "metadata": {},
   "source": [
    "### Ground Earth Station GES (Perth) ###\n",
    "\n",
    "| x | y | z |\n",
    "| ---- | ---- | ---- |\n",
    "| -2368.8 | 4881.1 | -3342.0 |\n"
   ]
  },
  {
   "cell_type": "markdown",
   "metadata": {},
   "source": [
    "\n",
    "### Satellite Location ###\n",
    "\n",
    "| UTC | x | y | c | x' | y' | z' |\n",
    "| ----------- | ----------- | ----------- | ----------- | ----------- | ----------- | ----------- |\n",
    "| 16:30:00 | 18122.9 | 38080.0 | 828.5 | 0.00216 | -0.00107 | 0.06390 |\n",
    "| 16:45:00 | 18124.8 | 38079.0 | 884.2 | 0.00212 | -0.00114 | 0.05980 |\n",
    "| 16:55:00 | 18126.1 | 38078.3 | 919.2 | 0.00209 | -0.00118 | 0.05693 |\n",
    "| 17:05:00 | 18127.3 | 38077.6 | 952.5 | 0.00206 | -0.00120 | 0.05395 |\n",
    "| 18:25:00 | 18136.7 | 38071.8 | 1148.5 | 0.00188 | -0.00117 | 0.02690 |\n",
    "| 19:40:00 | 18145.1 | 38067.0 | 1206.3 | 0.00189 | -0.00092 | -0.00148 |\n",
    "| 20:40:00 | 18152.1 | 38064.0 | 1159.7 | 0.00200 | -0.00077 | -0.02422 |\n",
    "| 21:40:00 | 18159.5 | 38061.3 | 1033.8 | 0.00212 | -0.00076 | -0.04531 |\n",
    "| 22:40:00 | 18167.2 | 38058.3 | 837.2 | 0.00211 | -0.00096 | -0.06331 |\n",
    "| 00:10:00 | 18177.5 | 38051.7 | 440.0 | 0.00160 | -0.00151 | -0.08188 |\n",
    "| 00:20:00 | 18178.4 | 38050.8 | 390.5 | 0.00150 | -0.00158 | -0.08321 |"
   ]
  },
  {
   "cell_type": "code",
   "execution_count": 6,
   "metadata": {},
   "outputs": [
    {
     "name": "stdout",
     "output_type": "stream",
     "text": [
      "hello world\n"
     ]
    },
    {
     "data": {
      "application/vnd.jupyter.widget-view+json": {
       "model_id": "728181804d6741df951bc5e6633e8362",
       "version_major": 2,
       "version_minor": 0
      },
      "text/plain": [
       "Map(center=[2.75, 101.71], controls=(ZoomControl(options=['position', 'zoom_in_text', 'zoom_in_title', 'zoom_o…"
      ]
     },
     "metadata": {},
     "output_type": "display_data"
    }
   ],
   "source": [
    "print (\"hello world\")\n",
    "from ipyleaflet import Map |  basemaps |  basemap_to_tiles\n",
    "\n",
    "m = Map(\n",
    "    basemap=basemap_to_tiles(basemaps.OpenStreetMap.Mapnik) | \n",
    "    center=(2.75 |  101.71) | \n",
    "    zoom=12\n",
    "    )\n",
    "m"
   ]
  },
  {
   "cell_type": "markdown",
   "metadata": {},
   "source": [
    "1. Add the flight departure coordinate\n",
    "1. Add the known waypoints\n",
    "2. Add the intended route\n",
    "3. Add the satellite location\n",
    "4. Add the coordinates perth earth station\n",
    "5. Add the handshakes\n",
    "6. Add the curtin university vector\n",
    "7. Add the UWA drift pattern\n",
    "8. Add the proposed target box\n",
    "9. Add reference to ATSB report\n"
   ]
  }
 ],
 "metadata": {
  "kernelspec": {
   "display_name": "Python 3.7.3 64-bit",
   "language": "python",
   "name": "python3"
  },
  "language_info": {
   "codemirror_mode": {
    "name": "ipython",
    "version": 3
   },
   "file_extension": ".py",
   "mimetype": "text/x-python",
   "name": "python",
   "nbconvert_exporter": "python",
   "pygments_lexer": "ipython3",
   "version": "3.7.3"
  },
  "orig_nbformat": 4,
  "vscode": {
   "interpreter": {
    "hash": "52634da84371cba311ea128a5ea7cdc41ff074b781779e754b270ff9f8153cee"
   }
  }
 },
 "nbformat": 4,
 "nbformat_minor": 2
}
