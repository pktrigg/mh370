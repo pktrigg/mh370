{
 "cells": [
  {
   "cell_type": "code",
   "execution_count": 1,
   "metadata": {},
   "outputs": [
    {
     "name": "stdout",
     "output_type": "stream",
     "text": [
      "Requirement already satisfied: ipyleaflet in c:\\python\\lib\\site-packages (0.16.0)\n",
      "Requirement already satisfied: ipywidgets<8,>=7.6.0 in c:\\python\\lib\\site-packages (from ipyleaflet) (7.7.1)\n",
      "Requirement already satisfied: xyzservices>=2021.8.1 in c:\\python\\lib\\site-packages (from ipyleaflet) (2022.6.0)\n",
      "Requirement already satisfied: traittypes<3,>=0.2.1 in c:\\python\\lib\\site-packages (from ipyleaflet) (0.2.1)\n",
      "Requirement already satisfied: jupyterlab-widgets>=1.0.0 in c:\\python\\lib\\site-packages (from ipywidgets<8,>=7.6.0->ipyleaflet) (1.1.1)\n",
      "Requirement already satisfied: ipykernel>=4.5.1 in c:\\python\\lib\\site-packages (from ipywidgets<8,>=7.6.0->ipyleaflet) (5.1.2)\n",
      "Requirement already satisfied: ipython-genutils~=0.2.0 in c:\\python\\lib\\site-packages (from ipywidgets<8,>=7.6.0->ipyleaflet) (0.2.0)\n",
      "Requirement already satisfied: widgetsnbextension~=3.6.0 in c:\\python\\lib\\site-packages (from ipywidgets<8,>=7.6.0->ipyleaflet) (3.6.1)\n",
      "Requirement already satisfied: ipython>=4.0.0 in c:\\python\\lib\\site-packages (from ipywidgets<8,>=7.6.0->ipyleaflet) (7.7.0)\n",
      "Requirement already satisfied: traitlets>=4.3.1 in c:\\python\\lib\\site-packages (from ipywidgets<8,>=7.6.0->ipyleaflet) (4.3.2)\n",
      "Requirement already satisfied: tornado>=4.2 in c:\\python\\lib\\site-packages (from ipykernel>=4.5.1->ipywidgets<8,>=7.6.0->ipyleaflet) (6.0.3)\n",
      "Requirement already satisfied: jupyter-client in c:\\python\\lib\\site-packages (from ipykernel>=4.5.1->ipywidgets<8,>=7.6.0->ipyleaflet) (5.3.1)\n",
      "Requirement already satisfied: pygments in c:\\python\\lib\\site-packages (from ipython>=4.0.0->ipywidgets<8,>=7.6.0->ipyleaflet) (2.4.2)\n",
      "Requirement already satisfied: setuptools>=18.5 in c:\\python\\lib\\site-packages (from ipython>=4.0.0->ipywidgets<8,>=7.6.0->ipyleaflet) (41.2.0)\n",
      "Requirement already satisfied: colorama in c:\\python\\lib\\site-packages (from ipython>=4.0.0->ipywidgets<8,>=7.6.0->ipyleaflet) (0.4.4)\n",
      "Requirement already satisfied: backcall in c:\\python\\lib\\site-packages (from ipython>=4.0.0->ipywidgets<8,>=7.6.0->ipyleaflet) (0.1.0)\n",
      "Requirement already satisfied: jedi>=0.10 in c:\\python\\lib\\site-packages (from ipython>=4.0.0->ipywidgets<8,>=7.6.0->ipyleaflet) (0.15.1)\n",
      "Requirement already satisfied: decorator in c:\\python\\lib\\site-packages (from ipython>=4.0.0->ipywidgets<8,>=7.6.0->ipyleaflet) (4.4.0)\n",
      "Requirement already satisfied: prompt-toolkit<2.1.0,>=2.0.0 in c:\\python\\lib\\site-packages (from ipython>=4.0.0->ipywidgets<8,>=7.6.0->ipyleaflet) (2.0.9)\n",
      "Requirement already satisfied: pickleshare in c:\\python\\lib\\site-packages (from ipython>=4.0.0->ipywidgets<8,>=7.6.0->ipyleaflet) (0.7.5)\n",
      "Requirement already satisfied: six in c:\\python\\lib\\site-packages (from traitlets>=4.3.1->ipywidgets<8,>=7.6.0->ipyleaflet) (1.15.0)\n",
      "Requirement already satisfied: notebook>=4.4.1 in c:\\python\\lib\\site-packages (from widgetsnbextension~=3.6.0->ipywidgets<8,>=7.6.0->ipyleaflet) (6.0.1)\n",
      "Requirement already satisfied: parso>=0.5.0 in c:\\python\\lib\\site-packages (from jedi>=0.10->ipython>=4.0.0->ipywidgets<8,>=7.6.0->ipyleaflet) (0.5.1)\n",
      "Requirement already satisfied: Send2Trash in c:\\python\\lib\\site-packages (from notebook>=4.4.1->widgetsnbextension~=3.6.0->ipywidgets<8,>=7.6.0->ipyleaflet) (1.5.0)\n",
      "Requirement already satisfied: jinja2 in c:\\python\\lib\\site-packages (from notebook>=4.4.1->widgetsnbextension~=3.6.0->ipywidgets<8,>=7.6.0->ipyleaflet) (2.10.1)\n",
      "Requirement already satisfied: prometheus-client in c:\\python\\lib\\site-packages (from notebook>=4.4.1->widgetsnbextension~=3.6.0->ipywidgets<8,>=7.6.0->ipyleaflet) (0.7.1)\n",
      "Requirement already satisfied: nbformat in c:\\python\\lib\\site-packages (from notebook>=4.4.1->widgetsnbextension~=3.6.0->ipywidgets<8,>=7.6.0->ipyleaflet) (4.4.0)\n",
      "Requirement already satisfied: pyzmq>=17 in c:\\python\\lib\\site-packages (from notebook>=4.4.1->widgetsnbextension~=3.6.0->ipywidgets<8,>=7.6.0->ipyleaflet) (18.1.0)\n",
      "Requirement already satisfied: terminado>=0.8.1 in c:\\python\\lib\\site-packages (from notebook>=4.4.1->widgetsnbextension~=3.6.0->ipywidgets<8,>=7.6.0->ipyleaflet) (0.8.2)\n",
      "Requirement already satisfied: nbconvert in c:\\python\\lib\\site-packages (from notebook>=4.4.1->widgetsnbextension~=3.6.0->ipywidgets<8,>=7.6.0->ipyleaflet) (5.6.0)\n",
      "Requirement already satisfied: jupyter-core>=4.4.0 in c:\\python\\lib\\site-packages (from notebook>=4.4.1->widgetsnbextension~=3.6.0->ipywidgets<8,>=7.6.0->ipyleaflet) (4.5.0)\n",
      "Requirement already satisfied: python-dateutil>=2.1 in c:\\python\\lib\\site-packages (from jupyter-client->ipykernel>=4.5.1->ipywidgets<8,>=7.6.0->ipyleaflet) (2.8.1)\n",
      "Requirement already satisfied: wcwidth in c:\\python\\lib\\site-packages (from prompt-toolkit<2.1.0,>=2.0.0->ipython>=4.0.0->ipywidgets<8,>=7.6.0->ipyleaflet) (0.1.7)\n",
      "Requirement already satisfied: pywinpty>=0.5 in c:\\python\\lib\\site-packages (from terminado>=0.8.1->notebook>=4.4.1->widgetsnbextension~=3.6.0->ipywidgets<8,>=7.6.0->ipyleaflet) (0.5.5)\n",
      "Requirement already satisfied: MarkupSafe>=0.23 in c:\\python\\lib\\site-packages (from jinja2->notebook>=4.4.1->widgetsnbextension~=3.6.0->ipywidgets<8,>=7.6.0->ipyleaflet) (1.1.1)\n",
      "Requirement already satisfied: testpath in c:\\python\\lib\\site-packages (from nbconvert->notebook>=4.4.1->widgetsnbextension~=3.6.0->ipywidgets<8,>=7.6.0->ipyleaflet) (0.4.2)\n",
      "Requirement already satisfied: bleach in c:\\python\\lib\\site-packages (from nbconvert->notebook>=4.4.1->widgetsnbextension~=3.6.0->ipywidgets<8,>=7.6.0->ipyleaflet) (3.1.0)\n",
      "Requirement already satisfied: pandocfilters>=1.4.1 in c:\\python\\lib\\site-packages (from nbconvert->notebook>=4.4.1->widgetsnbextension~=3.6.0->ipywidgets<8,>=7.6.0->ipyleaflet) (1.4.2)\n",
      "Requirement already satisfied: mistune<2,>=0.8.1 in c:\\python\\lib\\site-packages (from nbconvert->notebook>=4.4.1->widgetsnbextension~=3.6.0->ipywidgets<8,>=7.6.0->ipyleaflet) (0.8.4)\n",
      "Requirement already satisfied: entrypoints>=0.2.2 in c:\\python\\lib\\site-packages (from nbconvert->notebook>=4.4.1->widgetsnbextension~=3.6.0->ipywidgets<8,>=7.6.0->ipyleaflet) (0.3)\n",
      "Requirement already satisfied: defusedxml in c:\\python\\lib\\site-packages (from nbconvert->notebook>=4.4.1->widgetsnbextension~=3.6.0->ipywidgets<8,>=7.6.0->ipyleaflet) (0.6.0)\n",
      "Requirement already satisfied: jsonschema!=2.5.0,>=2.4 in c:\\python\\lib\\site-packages (from nbformat->notebook>=4.4.1->widgetsnbextension~=3.6.0->ipywidgets<8,>=7.6.0->ipyleaflet) (3.2.0)\n",
      "Requirement already satisfied: pyrsistent>=0.14.0 in c:\\python\\lib\\site-packages (from jsonschema!=2.5.0,>=2.4->nbformat->notebook>=4.4.1->widgetsnbextension~=3.6.0->ipywidgets<8,>=7.6.0->ipyleaflet) (0.15.4)\n",
      "Requirement already satisfied: attrs>=17.4.0 in c:\\python\\lib\\site-packages (from jsonschema!=2.5.0,>=2.4->nbformat->notebook>=4.4.1->widgetsnbextension~=3.6.0->ipywidgets<8,>=7.6.0->ipyleaflet) (19.3.0)\n",
      "Requirement already satisfied: importlib-metadata in c:\\python\\lib\\site-packages (from jsonschema!=2.5.0,>=2.4->nbformat->notebook>=4.4.1->widgetsnbextension~=3.6.0->ipywidgets<8,>=7.6.0->ipyleaflet) (1.7.0)\n",
      "Requirement already satisfied: webencodings in c:\\python\\lib\\site-packages (from bleach->nbconvert->notebook>=4.4.1->widgetsnbextension~=3.6.0->ipywidgets<8,>=7.6.0->ipyleaflet) (0.5.1)\n",
      "Requirement already satisfied: zipp>=0.5 in c:\\python\\lib\\site-packages (from importlib-metadata->jsonschema!=2.5.0,>=2.4->nbformat->notebook>=4.4.1->widgetsnbextension~=3.6.0->ipywidgets<8,>=7.6.0->ipyleaflet) (3.1.0)\n",
      "Note: you may need to restart the kernel to use updated packages.\n"
     ]
    },
    {
     "name": "stderr",
     "output_type": "stream",
     "text": [
      "WARNING: You are using pip version 22.0.4; however, version 22.1.2 is available.\n",
      "You should consider upgrading via the 'c:\\Python\\python.exe -m pip install --upgrade pip' command.\n"
     ]
    },
    {
     "name": "stdout",
     "output_type": "stream",
     "text": [
      "Requirement already satisfied: ipyleaflet in c:\\python\\lib\\site-packages (0.16.0)\n",
      "Requirement already satisfied: traittypes<3,>=0.2.1 in c:\\python\\lib\\site-packages (from ipyleaflet) (0.2.1)\n",
      "Requirement already satisfied: xyzservices>=2021.8.1 in c:\\python\\lib\\site-packages (from ipyleaflet) (2022.6.0)\n",
      "Requirement already satisfied: ipywidgets<8,>=7.6.0 in c:\\python\\lib\\site-packages (from ipyleaflet) (7.7.1)\n",
      "Requirement already satisfied: widgetsnbextension~=3.6.0 in c:\\python\\lib\\site-packages (from ipywidgets<8,>=7.6.0->ipyleaflet) (3.6.1)\n",
      "Requirement already satisfied: traitlets>=4.3.1 in c:\\python\\lib\\site-packages (from ipywidgets<8,>=7.6.0->ipyleaflet) (4.3.2)\n",
      "Requirement already satisfied: ipython-genutils~=0.2.0 in c:\\python\\lib\\site-packages (from ipywidgets<8,>=7.6.0->ipyleaflet) (0.2.0)\n",
      "Requirement already satisfied: ipython>=4.0.0 in c:\\python\\lib\\site-packages (from ipywidgets<8,>=7.6.0->ipyleaflet) (7.7.0)\n",
      "Requirement already satisfied: ipykernel>=4.5.1 in c:\\python\\lib\\site-packages (from ipywidgets<8,>=7.6.0->ipyleaflet) (5.1.2)\n",
      "Requirement already satisfied: jupyterlab-widgets>=1.0.0 in c:\\python\\lib\\site-packages (from ipywidgets<8,>=7.6.0->ipyleaflet) (1.1.1)\n",
      "Requirement already satisfied: tornado>=4.2 in c:\\python\\lib\\site-packages (from ipykernel>=4.5.1->ipywidgets<8,>=7.6.0->ipyleaflet) (6.0.3)\n",
      "Requirement already satisfied: jupyter-client in c:\\python\\lib\\site-packages (from ipykernel>=4.5.1->ipywidgets<8,>=7.6.0->ipyleaflet) (5.3.1)\n",
      "Requirement already satisfied: colorama in c:\\python\\lib\\site-packages (from ipython>=4.0.0->ipywidgets<8,>=7.6.0->ipyleaflet) (0.4.4)\n",
      "Requirement already satisfied: setuptools>=18.5 in c:\\python\\lib\\site-packages (from ipython>=4.0.0->ipywidgets<8,>=7.6.0->ipyleaflet) (41.2.0)\n",
      "Requirement already satisfied: jedi>=0.10 in c:\\python\\lib\\site-packages (from ipython>=4.0.0->ipywidgets<8,>=7.6.0->ipyleaflet) (0.15.1)\n",
      "Requirement already satisfied: pygments in c:\\python\\lib\\site-packages (from ipython>=4.0.0->ipywidgets<8,>=7.6.0->ipyleaflet) (2.4.2)\n",
      "Requirement already satisfied: backcall in c:\\python\\lib\\site-packages (from ipython>=4.0.0->ipywidgets<8,>=7.6.0->ipyleaflet) (0.1.0)\n",
      "Requirement already satisfied: pickleshare in c:\\python\\lib\\site-packages (from ipython>=4.0.0->ipywidgets<8,>=7.6.0->ipyleaflet) (0.7.5)\n",
      "Requirement already satisfied: decorator in c:\\python\\lib\\site-packages (from ipython>=4.0.0->ipywidgets<8,>=7.6.0->ipyleaflet) (4.4.0)\n",
      "Requirement already satisfied: prompt-toolkit<2.1.0,>=2.0.0 in c:\\python\\lib\\site-packages (from ipython>=4.0.0->ipywidgets<8,>=7.6.0->ipyleaflet) (2.0.9)\n",
      "Requirement already satisfied: six in c:\\python\\lib\\site-packages (from traitlets>=4.3.1->ipywidgets<8,>=7.6.0->ipyleaflet) (1.15.0)\n",
      "Requirement already satisfied: notebook>=4.4.1 in c:\\python\\lib\\site-packages (from widgetsnbextension~=3.6.0->ipywidgets<8,>=7.6.0->ipyleaflet) (6.0.1)\n",
      "Requirement already satisfied: parso>=0.5.0 in c:\\python\\lib\\site-packages (from jedi>=0.10->ipython>=4.0.0->ipywidgets<8,>=7.6.0->ipyleaflet) (0.5.1)\n",
      "Requirement already satisfied: jinja2 in c:\\python\\lib\\site-packages (from notebook>=4.4.1->widgetsnbextension~=3.6.0->ipywidgets<8,>=7.6.0->ipyleaflet) (2.10.1)\n",
      "Requirement already satisfied: Send2Trash in c:\\python\\lib\\site-packages (from notebook>=4.4.1->widgetsnbextension~=3.6.0->ipywidgets<8,>=7.6.0->ipyleaflet) (1.5.0)\n",
      "Requirement already satisfied: jupyter-core>=4.4.0 in c:\\python\\lib\\site-packages (from notebook>=4.4.1->widgetsnbextension~=3.6.0->ipywidgets<8,>=7.6.0->ipyleaflet) (4.5.0)\n",
      "Requirement already satisfied: terminado>=0.8.1 in c:\\python\\lib\\site-packages (from notebook>=4.4.1->widgetsnbextension~=3.6.0->ipywidgets<8,>=7.6.0->ipyleaflet) (0.8.2)\n",
      "Requirement already satisfied: prometheus-client in c:\\python\\lib\\site-packages (from notebook>=4.4.1->widgetsnbextension~=3.6.0->ipywidgets<8,>=7.6.0->ipyleaflet) (0.7.1)\n",
      "Requirement already satisfied: nbformat in c:\\python\\lib\\site-packages (from notebook>=4.4.1->widgetsnbextension~=3.6.0->ipywidgets<8,>=7.6.0->ipyleaflet) (4.4.0)\n",
      "Requirement already satisfied: nbconvert in c:\\python\\lib\\site-packages (from notebook>=4.4.1->widgetsnbextension~=3.6.0->ipywidgets<8,>=7.6.0->ipyleaflet) (5.6.0)\n",
      "Requirement already satisfied: pyzmq>=17 in c:\\python\\lib\\site-packages (from notebook>=4.4.1->widgetsnbextension~=3.6.0->ipywidgets<8,>=7.6.0->ipyleaflet) (18.1.0)\n",
      "Requirement already satisfied: python-dateutil>=2.1 in c:\\python\\lib\\site-packages (from jupyter-client->ipykernel>=4.5.1->ipywidgets<8,>=7.6.0->ipyleaflet) (2.8.1)\n",
      "Requirement already satisfied: wcwidth in c:\\python\\lib\\site-packages (from prompt-toolkit<2.1.0,>=2.0.0->ipython>=4.0.0->ipywidgets<8,>=7.6.0->ipyleaflet) (0.1.7)\n",
      "Requirement already satisfied: pywinpty>=0.5 in c:\\python\\lib\\site-packages (from terminado>=0.8.1->notebook>=4.4.1->widgetsnbextension~=3.6.0->ipywidgets<8,>=7.6.0->ipyleaflet) (0.5.5)\n",
      "Requirement already satisfied: MarkupSafe>=0.23 in c:\\python\\lib\\site-packages (from jinja2->notebook>=4.4.1->widgetsnbextension~=3.6.0->ipywidgets<8,>=7.6.0->ipyleaflet) (1.1.1)\n",
      "Requirement already satisfied: testpath in c:\\python\\lib\\site-packages (from nbconvert->notebook>=4.4.1->widgetsnbextension~=3.6.0->ipywidgets<8,>=7.6.0->ipyleaflet) (0.4.2)\n",
      "Requirement already satisfied: entrypoints>=0.2.2 in c:\\python\\lib\\site-packages (from nbconvert->notebook>=4.4.1->widgetsnbextension~=3.6.0->ipywidgets<8,>=7.6.0->ipyleaflet) (0.3)\n",
      "Requirement already satisfied: pandocfilters>=1.4.1 in c:\\python\\lib\\site-packages (from nbconvert->notebook>=4.4.1->widgetsnbextension~=3.6.0->ipywidgets<8,>=7.6.0->ipyleaflet) (1.4.2)\n",
      "Requirement already satisfied: defusedxml in c:\\python\\lib\\site-packages (from nbconvert->notebook>=4.4.1->widgetsnbextension~=3.6.0->ipywidgets<8,>=7.6.0->ipyleaflet) (0.6.0)\n",
      "Requirement already satisfied: mistune<2,>=0.8.1 in c:\\python\\lib\\site-packages (from nbconvert->notebook>=4.4.1->widgetsnbextension~=3.6.0->ipywidgets<8,>=7.6.0->ipyleaflet) (0.8.4)\n",
      "Requirement already satisfied: bleach in c:\\python\\lib\\site-packages (from nbconvert->notebook>=4.4.1->widgetsnbextension~=3.6.0->ipywidgets<8,>=7.6.0->ipyleaflet) (3.1.0)\n",
      "Requirement already satisfied: jsonschema!=2.5.0,>=2.4 in c:\\python\\lib\\site-packages (from nbformat->notebook>=4.4.1->widgetsnbextension~=3.6.0->ipywidgets<8,>=7.6.0->ipyleaflet) (3.2.0)\n",
      "Requirement already satisfied: importlib-metadata in c:\\python\\lib\\site-packages (from jsonschema!=2.5.0,>=2.4->nbformat->notebook>=4.4.1->widgetsnbextension~=3.6.0->ipywidgets<8,>=7.6.0->ipyleaflet) (1.7.0)\n",
      "Requirement already satisfied: pyrsistent>=0.14.0 in c:\\python\\lib\\site-packages (from jsonschema!=2.5.0,>=2.4->nbformat->notebook>=4.4.1->widgetsnbextension~=3.6.0->ipywidgets<8,>=7.6.0->ipyleaflet) (0.15.4)\n",
      "Requirement already satisfied: attrs>=17.4.0 in c:\\python\\lib\\site-packages (from jsonschema!=2.5.0,>=2.4->nbformat->notebook>=4.4.1->widgetsnbextension~=3.6.0->ipywidgets<8,>=7.6.0->ipyleaflet) (19.3.0)\n",
      "Requirement already satisfied: webencodings in c:\\python\\lib\\site-packages (from bleach->nbconvert->notebook>=4.4.1->widgetsnbextension~=3.6.0->ipywidgets<8,>=7.6.0->ipyleaflet) (0.5.1)\n",
      "Requirement already satisfied: zipp>=0.5 in c:\\python\\lib\\site-packages (from importlib-metadata->jsonschema!=2.5.0,>=2.4->nbformat->notebook>=4.4.1->widgetsnbextension~=3.6.0->ipywidgets<8,>=7.6.0->ipyleaflet) (3.1.0)\n",
      "Note: you may need to restart the kernel to use updated packages.\n"
     ]
    },
    {
     "name": "stderr",
     "output_type": "stream",
     "text": [
      "WARNING: You are using pip version 22.0.4; however, version 22.1.2 is available.\n",
      "You should consider upgrading via the 'c:\\Python\\python.exe -m pip install --upgrade pip' command.\n",
      "UsageError: Line magic function `%jupyter` not found.\n"
     ]
    }
   ],
   "source": [
    "%pip install ipyleaflet\n",
    "# !jupyter nbextension enable --py --sys-prefix ipyleaflet\n",
    "%pip install ipyleaflet\n",
    "%jupyter nbextension enable --py --sys-prefix ipyleaflet  # can be skipped for notebook 5.3 and above\n",
    "\n",
    "# import piplite\n",
    "# await piplite.install('ipyleaflet')"
   ]
  },
  {
   "cell_type": "code",
   "execution_count": 2,
   "metadata": {},
   "outputs": [
    {
     "name": "stdout",
     "output_type": "stream",
     "text": [
      "hello world\n"
     ]
    },
    {
     "data": {
      "application/vnd.jupyter.widget-view+json": {
       "model_id": "8ac629e790ea4fb8b650752f4f91a42f",
       "version_major": 2,
       "version_minor": 0
      },
      "text/plain": [
       "Map(center=[48.204793, 350.121558], controls=(ZoomControl(options=['position', 'zoom_in_text', 'zoom_in_title'…"
      ]
     },
     "metadata": {},
     "output_type": "display_data"
    }
   ],
   "source": [
    "print (\"hello world\")\n",
    "# from ipyleaflet import Map\n",
    "# Map(centre=[37.7766, -112.4194], zoom=5)\n",
    "\n",
    "from ipyleaflet import Map, basemaps, basemap_to_tiles\n",
    "\n",
    "m = Map(\n",
    "    basemap=basemap_to_tiles(basemaps.OpenStreetMap.Mapnik),\n",
    "    center=(48.204793, 350.121558),\n",
    "    zoom=3\n",
    "    )\n",
    "m"
   ]
  },
  {
   "cell_type": "code",
   "execution_count": null,
   "metadata": {},
   "outputs": [],
   "source": []
  }
 ],
 "metadata": {
  "kernelspec": {
   "display_name": "Python 3.7.3 64-bit",
   "language": "python",
   "name": "python3"
  },
  "language_info": {
   "codemirror_mode": {
    "name": "ipython",
    "version": 3
   },
   "file_extension": ".py",
   "mimetype": "text/x-python",
   "name": "python",
   "nbconvert_exporter": "python",
   "pygments_lexer": "ipython3",
   "version": "3.7.3"
  },
  "orig_nbformat": 4,
  "vscode": {
   "interpreter": {
    "hash": "52634da84371cba311ea128a5ea7cdc41ff074b781779e754b270ff9f8153cee"
   }
  }
 },
 "nbformat": 4,
 "nbformat_minor": 2
}
